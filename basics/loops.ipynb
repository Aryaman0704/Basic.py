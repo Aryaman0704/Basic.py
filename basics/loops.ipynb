{
 "cells": [
  {
   "attachments": {},
   "cell_type": "markdown",
   "metadata": {},
   "source": [
    "- iterables (anything that can be used in a loop)\n",
    "- for loop\n",
    "    - step based loop\n",
    "    ```\n",
    "    for item in iterable:\n",
    "        # do something with item\n",
    "    ```\n",
    "    - special iterables\n",
    "        - `range()`\n",
    "        - `enumerate()`\n",
    "        - `zip()`\n",
    "    - for - else\n",
    "\n",
    "- while loop\n",
    "    - condition based loop\n",
    "    ```\n",
    "    while condition:\n",
    "        # do something\n",
    "    ```\n",
    "    - while - else\n",
    "    \n",
    "- break\n",
    "- continue"
   ]
  },
  {
   "attachments": {},
   "cell_type": "markdown",
   "metadata": {},
   "source": [
    "iterables (anything that can be used in a loop)\n",
    "\n",
    "  * list\n",
    "  * tuple\n",
    "  * set\n",
    "  * dictionary\n",
    "  * string\n",
    "  * range\n",
    "  * file\n",
    "  * generator"
   ]
  },
  {
   "cell_type": "code",
   "execution_count": 1,
   "metadata": {},
   "outputs": [
    {
     "name": "stdout",
     "output_type": "stream",
     "text": [
      "12\n",
      "52\n",
      "13\n",
      "24\n",
      "45\n"
     ]
    }
   ],
   "source": [
    "x = [12, 52, 13, 24, 45]\n",
    "for i in x:\n",
    "    print(i)"
   ]
  },
  {
   "cell_type": "code",
   "execution_count": 2,
   "metadata": {},
   "outputs": [
    {
     "name": "stdout",
     "output_type": "stream",
     "text": [
      "have you seen Tiger?\n",
      "have you seen Elephant?\n",
      "have you seen Leopard?\n"
     ]
    }
   ],
   "source": [
    "animals = ['Tiger','Elephant','Leopard']\n",
    "for animal in animals:\n",
    "    print(f'have you seen {animal}?')"
   ]
  },
  {
   "cell_type": "code",
   "execution_count": 8,
   "metadata": {},
   "outputs": [
    {
     "name": "stdout",
     "output_type": "stream",
     "text": [
      "jumanji              | 7\n",
      "resident evil        | 13\n",
      "gangs of waseypur    | 17\n",
      "RRR                  | 3\n",
      "KGF                  | 3\n",
      "Harry Potter         | 12\n",
      "Iron Man             | 8\n",
      "Thor: Ragnarok       | 14\n",
      "roketary             | 8\n",
      "captain america      | 15\n"
     ]
    }
   ],
   "source": [
    "movies = ['jumanji','resident evil','gangs of waseypur',\n",
    "          'RRR', 'KGF','Harry Potter','Iron Man','Thor: Ragnarok',\n",
    "          'roketary','captain america']\n",
    "\n",
    "for movie in movies:\n",
    "    print(f'{movie:20} | {len(movie)}')"
   ]
  },
  {
   "attachments": {},
   "cell_type": "markdown",
   "metadata": {},
   "source": [
    "adding logic into loops"
   ]
  },
  {
   "cell_type": "code",
   "execution_count": 9,
   "metadata": {},
   "outputs": [
    {
     "name": "stdout",
     "output_type": "stream",
     "text": [
      "orange\n",
      "gray\n",
      "black\n",
      "cyan\n"
     ]
    }
   ],
   "source": [
    "colors = ['red','green','yellow','blue','violit','orange','gray','black',\n",
    "          'silver','brown','cyan','white']\n",
    "\n",
    "for name in colors:\n",
    "    if 'a' in name:\n",
    "        print(name)"
   ]
  },
  {
   "cell_type": "code",
   "execution_count": 10,
   "metadata": {},
   "outputs": [
    {
     "name": "stdout",
     "output_type": "stream",
     "text": [
      "0 1 2 3 4 5 6 7 8 9 "
     ]
    }
   ],
   "source": [
    "# 0 to 9 display\n",
    "for i in range(10):\n",
    "    print(i, end=' ') # end is special setting in print function"
   ]
  },
  {
   "cell_type": "code",
   "execution_count": 11,
   "metadata": {},
   "outputs": [
    {
     "name": "stdout",
     "output_type": "stream",
     "text": [
      "15 16 17 18 19 20 21 22 23 24 25 26 27 28 29 30 "
     ]
    }
   ],
   "source": [
    "# 15 to 30 iterate\n",
    "for i in range(15,31):\n",
    "    print(i, end=' ')"
   ]
  },
  {
   "cell_type": "code",
   "execution_count": 15,
   "metadata": {},
   "outputs": [
    {
     "name": "stdout",
     "output_type": "stream",
     "text": [
      "0 5 10 15 20 25 30 35 40 45 50 55 60 65 70 75 80 85 90 95 100 "
     ]
    }
   ],
   "source": [
    "# 0 - 100 with a increment of 5\n",
    "for i in range(0, 101, 5):\n",
    "    print(i, end=' ')"
   ]
  },
  {
   "cell_type": "code",
   "execution_count": 16,
   "metadata": {},
   "outputs": [
    {
     "name": "stdout",
     "output_type": "stream",
     "text": [
      "10 9 8 7 6 5 4 3 2 1 "
     ]
    }
   ],
   "source": [
    "# reverse loop\n",
    "for i in range(10,0, -1):\n",
    "    print(i, end=' ')"
   ]
  },
  {
   "cell_type": "code",
   "execution_count": 18,
   "metadata": {},
   "outputs": [
    {
     "name": "stdout",
     "output_type": "stream",
     "text": [
      "(0, 'jumanji')\n",
      "(1, 'resident evil')\n",
      "(2, 'gangs of waseypur')\n",
      "(3, 'RRR')\n",
      "(4, 'KGF')\n",
      "(5, 'Harry Potter')\n",
      "(6, 'Iron Man')\n",
      "(7, 'Thor: Ragnarok')\n",
      "(8, 'roketary')\n",
      "(9, 'captain america')\n"
     ]
    }
   ],
   "source": [
    "# enumeration\n",
    "for movie in enumerate(movies):\n",
    "    print(movie)"
   ]
  },
  {
   "cell_type": "code",
   "execution_count": 19,
   "metadata": {},
   "outputs": [
    {
     "name": "stdout",
     "output_type": "stream",
     "text": [
      "0 jumanji\n",
      "1 resident evil\n",
      "2 gangs of waseypur\n",
      "3 RRR\n",
      "4 KGF\n",
      "5 Harry Potter\n",
      "6 Iron Man\n",
      "7 Thor: Ragnarok\n",
      "8 roketary\n",
      "9 captain america\n"
     ]
    }
   ],
   "source": [
    "for i, movie in enumerate(movies):\n",
    "    print(i, movie)"
   ]
  },
  {
   "cell_type": "code",
   "execution_count": 35,
   "metadata": {},
   "outputs": [],
   "source": [
    "x = [2,56,67,12,56]\n",
    "y = [2,5,1,6,5]\n",
    "z = [2,5,61,46,22]"
   ]
  },
  {
   "cell_type": "code",
   "execution_count": 36,
   "metadata": {},
   "outputs": [
    {
     "name": "stdout",
     "output_type": "stream",
     "text": [
      "6 66 129 64 83 "
     ]
    }
   ],
   "source": [
    "# non pythonic\n",
    "for i in range(len(x)):\n",
    "    print( x[i]+ y[i]+z[i], end=' ')"
   ]
  },
  {
   "cell_type": "code",
   "execution_count": 37,
   "metadata": {},
   "outputs": [],
   "source": [
    "# pythonic"
   ]
  },
  {
   "cell_type": "code",
   "execution_count": 38,
   "metadata": {},
   "outputs": [
    {
     "name": "stdout",
     "output_type": "stream",
     "text": [
      "6 66 129 64 83 "
     ]
    }
   ],
   "source": [
    "for i,j,k in zip(x,y,z):\n",
    "    print(i + j + k, end=' ')"
   ]
  },
  {
   "cell_type": "code",
   "execution_count": 34,
   "metadata": {},
   "outputs": [
    {
     "name": "stdout",
     "output_type": "stream",
     "text": [
      "total=348\n"
     ]
    }
   ],
   "source": [
    "total = 0\n",
    "for i, j, k in zip(x,y,z):\n",
    "    total += i+j+k\n",
    "print(f'{total=}')"
   ]
  },
  {
   "cell_type": "code",
   "execution_count": 42,
   "metadata": {},
   "outputs": [
    {
     "name": "stdout",
     "output_type": "stream",
     "text": [
      "1\n",
      "2\n",
      "5\n",
      "6\n",
      "2\n",
      "5\n",
      "6\n",
      "2\n",
      "None\n",
      "2\n",
      "5\n",
      "1\n",
      "5\n"
     ]
    }
   ],
   "source": [
    "data = [1,2,0,5,6,2,0,5,6,2,None,0,0,0,2,5,1,5,]\n",
    "for i in data:\n",
    "    if i == 0: \n",
    "        continue\n",
    "    print(i)"
   ]
  },
  {
   "cell_type": "code",
   "execution_count": 44,
   "metadata": {},
   "outputs": [
    {
     "name": "stdout",
     "output_type": "stream",
     "text": [
      "1\n",
      "2\n",
      "0\n",
      "5\n",
      "6\n",
      "2\n",
      "0\n",
      "5\n",
      "6\n",
      "2\n",
      "the end\n"
     ]
    }
   ],
   "source": [
    "for i in data:\n",
    "    if i == None:\n",
    "        break\n",
    "    print(i)\n",
    "print('the end')"
   ]
  },
  {
   "cell_type": "code",
   "execution_count": 45,
   "metadata": {},
   "outputs": [
    {
     "name": "stdout",
     "output_type": "stream",
     "text": [
      "1\n",
      "2\n",
      "5\n",
      "6\n",
      "2\n",
      "5\n",
      "6\n",
      "2\n"
     ]
    }
   ],
   "source": [
    "for i in data:\n",
    "    if i == 0: continue\n",
    "    if i == None: break\n",
    "    print(i)"
   ]
  },
  {
   "cell_type": "code",
   "execution_count": 9,
   "metadata": {},
   "outputs": [
    {
     "name": "stdout",
     "output_type": "stream",
     "text": [
      "4\n",
      "123\n"
     ]
    }
   ],
   "source": [
    "i = 12239\n",
    "print(i % 10) # remainder\n",
    "print(i // 10) # quotient"
   ]
  },
  {
   "cell_type": "code",
   "execution_count": 13,
   "metadata": {},
   "outputs": [
    {
     "name": "stdout",
     "output_type": "stream",
     "text": [
      "665\n"
     ]
    }
   ],
   "source": [
    "number = int(input(\"enter a number:\")) # 12345\n",
    "total = 0\n",
    "while number > 0:\n",
    "    total += number % 10 # add remainder to total\n",
    "    number = number // 10 # update number from quotient\n",
    "print(total)"
   ]
  },
  {
   "cell_type": "code",
   "execution_count": 16,
   "metadata": {},
   "outputs": [
    {
     "name": "stdout",
     "output_type": "stream",
     "text": [
      "welcome master ✅\n"
     ]
    }
   ],
   "source": [
    "retries = 0\n",
    "while retries < 3:\n",
    "    pin = input(\"enter password:\")\n",
    "    if pin == '1234':\n",
    "        print(\"welcome master ✅\")\n",
    "        break\n",
    "    else:\n",
    "        print(\"wrong password ❌\")\n",
    "        retries += 1"
   ]
  },
  {
   "cell_type": "code",
   "execution_count": null,
   "metadata": {},
   "outputs": [],
   "source": []
  }
 ],
 "metadata": {
  "kernelspec": {
   "display_name": "base",
   "language": "python",
   "name": "python3"
  },
  "language_info": {
   "codemirror_mode": {
    "name": "ipython",
    "version": 3
   },
   "file_extension": ".py",
   "mimetype": "text/x-python",
   "name": "python",
   "nbconvert_exporter": "python",
   "pygments_lexer": "ipython3",
   "version": "3.10.9"
  },
  "orig_nbformat": 4,
  "vscode": {
   "interpreter": {
    "hash": "8befaed7f752a58a740e5f08c55a1efd8fcda412d7a2f1c4d828330769dea609"
   }
  }
 },
 "nbformat": 4,
 "nbformat_minor": 2
}
