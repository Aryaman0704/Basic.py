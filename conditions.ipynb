{
 "cells": [
  {
   "cell_type": "code",
   "execution_count": 1,
   "metadata": {},
   "outputs": [
    {
     "name": "stdout",
     "output_type": "stream",
     "text": [
      "yes✔️\n"
     ]
    }
   ],
   "source": [
    "x = 5\n",
    "if x > 3:\n",
    "    print(\"yes✔️\")\n",
    "else:\n",
    "    print(\"no❌\")"
   ]
  },
  {
   "cell_type": "code",
   "execution_count": 2,
   "metadata": {},
   "outputs": [
    {
     "name": "stdout",
     "output_type": "stream",
     "text": [
      "You didn't follow the instructions\n",
      "Try again 👊\n"
     ]
    }
   ],
   "source": [
    "a = input(\"Enter a number: \")\n",
    "if a.isnumeric():\n",
    "    print(\"You followed the instructions\")\n",
    "    print(\"Good job 👏\")\n",
    "else:\n",
    "    print(\"You didn't follow the instructions\")\n",
    "    print(\"Try again 👊\")"
   ]
  },
  {
   "cell_type": "code",
   "execution_count": null,
   "metadata": {},
   "outputs": [],
   "source": [
    "menu = [\"pizza\", \"pasta\", \"salad\", \"nachos\"]\n",
    "order = input(\"What would you like to order? 😋 \")\n",
    "if order in menu:\n",
    "    print(\"Your order is on its way\")\n",
    "else:\n",
    "    print(\"Agle saal aana😂\")"
   ]
  },
  {
   "cell_type": "code",
   "execution_count": null,
   "metadata": {},
   "outputs": [],
   "source": [
    "x = int(input(\"enter number=>\"))\n",
    "if x < 20:\n",
    "    print(\"E\")\n",
    "elif x >= 20 and x < 40:\n",
    "    print(\"D\")\n",
    "elif x >=40 and x < 60:\n",
    "    print(\"C\")\n",
    "elif x >=60 and x < 80:\n",
    "    print(\"A\")\n",
    "elif x >= 80 and x < 100:\n",
    "    print(\"S\")\n",
    "else:\n",
    "    print(\"Invalid entry\")"
   ]
  },
  {
   "attachments": {},
   "cell_type": "markdown",
   "metadata": {},
   "source": [
    "nested condition"
   ]
  },
  {
   "cell_type": "code",
   "execution_count": 1,
   "metadata": {},
   "outputs": [],
   "source": [
    "uname = input(\"enter your username = \")\n",
    "email = input('enter your email = ')\n",
    "pwd = input(\"enter password = \")\n",
    "pwd2 = input('confirm password = ')\n",
    "if len(uname) >=4 and len(uname) < 16:\n",
    "    if '@' in email and len(email) > 6:\n",
    "        if len(pwd) >=8 and len(pwd) <=20 and pwd != uname:\n",
    "            if pwd == pwd2:\n",
    "                print(\"Hurray 👏👏👏\")\n",
    "            else:\n",
    "                print(\"passwords do not match 😡👊\")\n",
    "        else:\n",
    "            print(\"password invalid, 👊😡\")\n",
    "    else:\n",
    "        print('email is invalid 👊😡👊')\n",
    "else:\n",
    "    print('username is invalid 😡😡')"
   ]
  },
  {
   "attachments": {},
   "cell_type": "markdown",
   "metadata": {},
   "source": [
    "match case\n",
    "```\n",
    "match expression:\n",
    "    case pattern1:\n",
    "        statement1\n",
    "    case pattern2:\n",
    "        statement2\n",
    "    case _:\n",
    "        statement3\n",
    "\n",
    "```"
   ]
  },
  {
   "cell_type": "code",
   "execution_count": 3,
   "metadata": {},
   "outputs": [
    {
     "name": "stdout",
     "output_type": "stream",
     "text": [
      "I dont care who you are\n"
     ]
    }
   ],
   "source": [
    "name = input('enter your name')\n",
    "match name:\n",
    "    case \"ajay\":\n",
    "        print(\"So you are ajay\")\n",
    "    case \"vijay\":\n",
    "        print(\"Cool cool, you vijay\")\n",
    "    case \"raju\":\n",
    "        print('to app ho raju!')\n",
    "    case _:\n",
    "        print(\"I dont care who you are\")\n",
    "    \n"
   ]
  },
  {
   "attachments": {},
   "cell_type": "markdown",
   "metadata": {},
   "source": [
    "### wap to generate total salary of employee based on their designation\n",
    "- if designation is manager then base salary is 50000\n",
    "- if designation is developer then base salary is 40000\n",
    "- if designation is tester then base salary is 30000\n",
    "- apply 10% bonus for manager\n",
    "- apply 20% bonus for developer\n",
    "- apply 30% bonus for tester\n",
    "- add hra of 20% of base salary\n",
    "> use condition in match case"
   ]
  },
  {
   "cell_type": "code",
   "execution_count": 6,
   "metadata": {},
   "outputs": [],
   "source": [
    "desgination = input(\"enter ur desgination \")\n",
    "match desgination:\n",
    "    case 'manager':\n",
    "        bs = 50000\n",
    "        bns = bs * .1 # 10 %\n",
    "        hra = bs * .2 # 20 %\n",
    "        ts = bs + bns + hra\n",
    "        print(f'total salary : {ts}')\n",
    "    case 'developer':\n",
    "        pass\n",
    "    case 'tester':\n",
    "        pass\n",
    "    case _:\n",
    "        print(\"You are fired\")"
   ]
  },
  {
   "cell_type": "code",
   "execution_count": null,
   "metadata": {},
   "outputs": [],
   "source": [
    "if desgination == 'manager':\n",
    "    pass\n",
    "elif desgination == 'developer':\n",
    "    pass\n",
    "elif desgination == 'tester':\n",
    "    pass\n",
    "else:\n",
    "    print('You are fired')"
   ]
  }
 ],
 "metadata": {
  "kernelspec": {
   "display_name": "base",
   "language": "python",
   "name": "python3"
  },
  "language_info": {
   "codemirror_mode": {
    "name": "ipython",
    "version": 3
   },
   "file_extension": ".py",
   "mimetype": "text/x-python",
   "name": "python",
   "nbconvert_exporter": "python",
   "pygments_lexer": "ipython3",
   "version": "3.10.9"
  },
  "orig_nbformat": 4,
  "vscode": {
   "interpreter": {
    "hash": "8befaed7f752a58a740e5f08c55a1efd8fcda412d7a2f1c4d828330769dea609"
   }
  }
 },
 "nbformat": 4,
 "nbformat_minor": 2
}
