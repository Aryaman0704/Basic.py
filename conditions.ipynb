{
 "cells": [
  {
   "cell_type": "code",
   "execution_count": 1,
   "metadata": {},
   "outputs": [
    {
     "name": "stdout",
     "output_type": "stream",
     "text": [
      "yes✔️\n"
     ]
    }
   ],
   "source": [
    "x = 5\n",
    "if x > 3:\n",
    "    print(\"yes✔️\")\n",
    "else:\n",
    "    print(\"no❌\")"
   ]
  },
  {
   "cell_type": "code",
   "execution_count": 2,
   "metadata": {},
   "outputs": [
    {
     "name": "stdout",
     "output_type": "stream",
     "text": [
      "You didn't follow the instructions\n",
      "Try again 👊\n"
     ]
    }
   ],
   "source": [
    "a = input(\"Enter a number: \")\n",
    "if a.isnumeric():\n",
    "    print(\"You followed the instructions\")\n",
    "    print(\"Good job 👏\")\n",
    "else:\n",
    "    print(\"You didn't follow the instructions\")\n",
    "    print(\"Try again 👊\")"
   ]
  },
  {
   "cell_type": "code",
   "execution_count": null,
   "metadata": {},
   "outputs": [],
   "source": [
    "menu = [\"pizza\", \"pasta\", \"salad\", \"nachos\"]\n",
    "order = input(\"What would you like to order? 😋 \")\n",
    "if order in menu:\n",
    "    print(\"Your order is on its way\")\n",
    "else:\n",
    "    print(\"Agle saal aana😂\")"
   ]
  }
 ],
 "metadata": {
  "kernelspec": {
   "display_name": "base",
   "language": "python",
   "name": "python3"
  },
  "language_info": {
   "codemirror_mode": {
    "name": "ipython",
    "version": 3
   },
   "file_extension": ".py",
   "mimetype": "text/x-python",
   "name": "python",
   "nbconvert_exporter": "python",
   "pygments_lexer": "ipython3",
   "version": "3.10.9"
  },
  "orig_nbformat": 4,
  "vscode": {
   "interpreter": {
    "hash": "8befaed7f752a58a740e5f08c55a1efd8fcda412d7a2f1c4d828330769dea609"
   }
  }
 },
 "nbformat": 4,
 "nbformat_minor": 2
}
